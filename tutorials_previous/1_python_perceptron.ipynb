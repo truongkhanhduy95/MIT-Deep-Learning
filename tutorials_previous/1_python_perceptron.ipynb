{
 "cells": [
  {
   "cell_type": "code",
   "execution_count": 1,
   "metadata": {},
   "outputs": [],
   "source": [
    "import numpy as np\n",
    "import numpy.random as nr\n",
    "import matplotlib.pyplot as pl\n",
    "%matplotlib inline\n",
    "\n",
    "# This notebook is based on an excellent tutorial by Kostis Gourgoulias (http://kgourgou.me/)\n",
    "\n",
    "# Specify size of plot\n",
    "pl.rcParams['figure.figsize'] = (12.0, 10.0)"
   ]
  },
  {
   "cell_type": "markdown",
   "metadata": {},
   "source": [
    "# Playing around with the linear perceptron algorithm\n",
    "\n",
    "The linear perceptron algorithm can be used to classify data points according to pre-selected features they have. The idea is to find a curve (or hyperplane) that separates points with different features. Once we have the curve, we can use it to decide if future points are of feature A or B based on where they are with respect to the curve (above or below it).\n",
    "\n",
    "Now, let generate a collection of points and then paint them according to a line. If the points are above the line, they are blue, if they are below, green."
   ]
  },
  {
   "cell_type": "code",
   "execution_count": 3,
   "metadata": {},
   "outputs": [
    {
     "data": {
      "text/plain": [
       "Text(0.5,1,'Selected points with their separating line.')"
      ]
     },
     "execution_count": 3,
     "metadata": {},
     "output_type": "execute_result"
    },
    {
     "data": {
      "image/png": "[encoded data removed]",
      "text/plain": [
       "<Figure size 432x288 with 1 Axes>"
      ]
     },
     "metadata": {},
     "output_type": "display_data"
    }
   ],
   "source": [
    "# Generate some points\n",
    "N = 100\n",
    "xn = nr.rand(N,2)\n",
    "\n",
    "x = np.linspace(0,1)\n",
    "\n",
    "# Pick a line \n",
    "#a, b = nr.rand(), nr.rand()\n",
    "a, b = 0.8, 0.2\n",
    "f = lambda x : a*x + b\n",
    "\n",
    "fig = pl.figure()\n",
    "figa = pl.gca()\n",
    "\n",
    "pl.plot(xn[:,0],xn[:,1],'bo')\n",
    "pl.plot(x,f(x),'r')\n",
    "\n",
    "# Linearly separate the points by the line\n",
    "yn = np.zeros([N,1])\n",
    "\n",
    "for i in range(N):\n",
    "    if(f(xn[i,0])>xn[i,1]):\n",
    "        # Point is below line\n",
    "        yn[i] = 1\n",
    "        pl.plot(xn[i,0],xn[i,1],'go')\n",
    "    else:\n",
    "        # Point is above line\n",
    "        yn[i] = -1\n",
    "        \n",
    "        \n",
    "pl.legend(['Above','Separator','Below'],loc=0)\n",
    "pl.title('Selected points with their separating line.')\n",
    "#figa.axes.get_xaxis().set_visible(False)\n",
    "#figa.axes.get_yaxis().set_visible(False)"
   ]
  },
  {
   "cell_type": "markdown",
   "metadata": {},
   "source": [
    "The curve naturally separates the space into two regions, one of green points and one of blue points. Thus, if I am given a new point, I can assign it a color based on where it is with respect to the curve. It is really that simple.\n",
    "\n",
    "What is not so simple is to find the curve given the points. However, if the points are linearly separable, i.e. if a line exists that does the job, then I can just move a line around until I get it to the correct position. This is what the linear perceptron algorithm is doing."
   ]
  },
  {
   "cell_type": "code",
   "execution_count": 6,
   "metadata": {},
   "outputs": [
    {
     "name": "stdout",
     "output_type": "stream",
     "text": [
      "95 0.09769618689376192 0.5018060681003306 0.0 [-1.]\n",
      "30 0.16229983089509592 0.4336559626265507 -1.0 [-1.]\n",
      "77 0.7499571580605265 0.2500878302193279 -1.0 [1.]\n",
      "83 0.6135948731230253 0.6032462194328589 1.0 [1.]\n",
      "19 0.5310405458965853 0.6012187334377812 1.0 [1.]\n"
     ]
    }
   ],
   "source": [
    "def perceptron(xn, yn, max_iter=1000, w=np.zeros(3)):\n",
    "    '''\n",
    "        A very simple implementation of the perceptron algorithm for two dimensional data.\n",
    "        \n",
    "        Given points (x,y) with x in R^{2} and y in {-1,1}, the perceptron learning algorithm searches for the best\n",
    "        line that separates the data points according to the difference classes defined in y. \n",
    "        \n",
    "        Input: \n",
    "            xn : Data points, an Nx2 vector. \n",
    "            yn : Classification of the previous data points, an Nx1 vector. \n",
    "            max_iter : Maximum number of iterations (optional).\n",
    "            w  : Initial vector of parameters (optional).\n",
    "            \n",
    "        Output: \n",
    "            w : Parameters of the best line, y = ax+b, that linearly separates the data. \n",
    "        \n",
    "        Note:\n",
    "            Convergence will be slower than expected, since this implementation picks points\n",
    "            to update without a specific plan (randomly). This is enough for a demonstration, not \n",
    "            so good for actual work. \n",
    "'''\n",
    "    \n",
    "    N = xn.shape[0]\n",
    "    \n",
    "    # Separating curve\n",
    "    f = lambda x: np.sign(w[0]+w[1]*x[0]+w[2]*x[1])\n",
    "\n",
    "    for _ in range(max_iter):\n",
    "        i = nr.randint(N) # try a random sample from the dataset\n",
    "        print(i, xn[i,0], xn[i,1], f(xn[i,:]), yn[i])\n",
    "        if(yn[i] != f(xn[i,:])): # If not classified correctly, adjust the line to account for that point.\n",
    "            w[0] = w[0] + yn[i] # the first weight is effectively the bias\n",
    "            w[1] = w[1] + yn[i] * xn[i,0]\n",
    "            w[2] = w[2] + yn[i] * xn[i,1]\n",
    "            \n",
    "                \n",
    "                \n",
    "            \n",
    "    return w\n",
    "\n",
    "w = perceptron(xn, yn, max_iter=5)"
   ]
  },
  {
   "cell_type": "markdown",
   "metadata": {},
   "source": [
    "Now that we have an implementation, let's see how close it gets.\n"
   ]
  },
  {
   "cell_type": "code",
   "execution_count": null,
   "metadata": {},
   "outputs": [],
   "source": []
  }
 ],
 "metadata": {
  "kernelspec": {
   "display_name": "Python 3",
   "language": "python",
   "name": "python3"
  },
  "language_info": {
   "codemirror_mode": {
    "name": "ipython",
    "version": 3
   },
   "file_extension": ".py",
   "mimetype": "text/x-python",
   "name": "python",
   "nbconvert_exporter": "python",
   "pygments_lexer": "ipython3",
   "version": "3.6.5"
  }
 },
 "nbformat": 4,
 "nbformat_minor": 2
}
